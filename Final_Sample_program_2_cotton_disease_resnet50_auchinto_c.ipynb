{
  "nbformat": 4,
  "nbformat_minor": 0,
  "metadata": {
    "colab": {
      "provenance": []
    },
    "kernelspec": {
      "name": "python3",
      "display_name": "Python 3"
    },
    "language_info": {
      "name": "python"
    },
    "accelerator": "TPU"
  },
  "cells": [
    {
      "cell_type": "markdown",
      "source": [
        "# Cotton Disease Prediction"
      ],
      "metadata": {
        "id": "PsY4eZlaAIK1"
      }
    },
    {
      "cell_type": "markdown",
      "source": [
        "## Libraries"
      ],
      "metadata": {
        "id": "BE4Z-9fgAMh0"
      }
    },
    {
      "cell_type": "code",
      "source": [
        "from tensorflow.keras.layers import Input, Lambda, Dense, Flatten\n",
        "from tensorflow.keras.models import Model\n",
        "from tensorflow.keras.applications.resnet50 import ResNet50\n",
        "from tensorflow.keras.applications.resnet50 import preprocess_input\n",
        "from tensorflow.keras.preprocessing import image\n",
        "from tensorflow.keras.preprocessing.image import ImageDataGenerator, load_img\n",
        "from tensorflow.keras.models import Sequential\n",
        "import numpy as np\n",
        "from glob import glob\n",
        "import matplotlib.pyplot as plt"
      ],
      "metadata": {
        "id": "ZQ7czW-LADdJ"
      },
      "execution_count": null,
      "outputs": []
    },
    {
      "cell_type": "code",
      "source": [
        "from google.colab import drive\n",
        "drive.mount('/content/drive')"
      ],
      "metadata": {
        "colab": {
          "base_uri": "https://localhost:8080/"
        },
        "id": "CNmhvuS5ffZh",
        "outputId": "d86f913c-bf89-4e1f-f20d-95e383bb726f"
      },
      "execution_count": null,
      "outputs": [
        {
          "output_type": "stream",
          "name": "stdout",
          "text": [
            "Mounted at /content/drive\n"
          ]
        }
      ]
    },
    {
      "cell_type": "markdown",
      "source": [
        "## Constants\n",
        "Providing the image size and the train-test paths."
      ],
      "metadata": {
        "id": "Htn8EVkMBnlS"
      }
    },
    {
      "cell_type": "code",
      "source": [
        "IMAGE_SIZE = [224, 224]\n",
        "\n",
        "train_path = '/content/drive/MyDrive/Main dataset'\n",
        "valid_path = '/content/drive/MyDrive/TEST'"
      ],
      "metadata": {
        "id": "HeVbPxlmA4ih"
      },
      "execution_count": null,
      "outputs": []
    },
    {
      "cell_type": "markdown",
      "source": [
        "## Model Initialisation"
      ],
      "metadata": {
        "id": "zI6d4822Bx98"
      }
    },
    {
      "cell_type": "markdown",
      "source": [
        "- Since the dataset set images are sized at (224, 224), we are selecting IMAGE_SIZE for this model.\n",
        "- The dataset images are RGB, i.e. we have 3 channels, that's why we are selecting the input shape to be (224, 224, 3)\n",
        "- We are using `imagenet` weights, since it has already 1000 categories, thus using pretrained weights.\n",
        "- We are not including the top layer, that is the first layer, because we are providing our own top layer, i.e. IMAGE_SIZE.\n",
        "- We are also removing the last layer, since that will be just our categories in which we want to classify the images (`#output_nodes = 4`)."
      ],
      "metadata": {
        "id": "a-J4cfvOCF8Y"
      }
    },
    {
      "cell_type": "code",
      "source": [
        "resnet = ResNet50(input_shape=IMAGE_SIZE + [3], weights='imagenet', include_top = False)"
      ],
      "metadata": {
        "id": "9x3CPe5CBYpP",
        "colab": {
          "base_uri": "https://localhost:8080/"
        },
        "outputId": "d91711f0-9599-4d07-ce42-87a7749d8bd3"
      },
      "execution_count": null,
      "outputs": [
        {
          "output_type": "stream",
          "name": "stdout",
          "text": [
            "Downloading data from https://storage.googleapis.com/tensorflow/keras-applications/resnet/resnet50_weights_tf_dim_ordering_tf_kernels_notop.h5\n",
            "94765736/94765736 [==============================] - 1s 0us/step\n"
          ]
        }
      ]
    },
    {
      "cell_type": "markdown",
      "source": [
        "Don't train the layers, we are going to use the existing weights from the ResNet50 model. We are doing this since we do not include the first and the last layer. We will be just training on the last layer."
      ],
      "metadata": {
        "id": "97STiPiPDUI9"
      }
    },
    {
      "cell_type": "code",
      "source": [
        "for layer in resnet.layers:\n",
        "    layer.trainable = False"
      ],
      "metadata": {
        "id": "GyVaTT6gCAlD"
      },
      "execution_count": null,
      "outputs": []
    },
    {
      "cell_type": "code",
      "source": [
        "# Getting the number of output classes\n",
        "folders = glob('/content/drive/MyDrive/Main dataset/*')\n",
        "folders"
      ],
      "metadata": {
        "colab": {
          "base_uri": "https://localhost:8080/"
        },
        "id": "llZbdnBmDk_q",
        "outputId": "31cf4550-1c10-40ea-f691-b82419691a32"
      },
      "execution_count": null,
      "outputs": [
        {
          "output_type": "execute_result",
          "data": {
            "text/plain": [
              "['/content/drive/MyDrive/Main dataset/Aphids',\n",
              " '/content/drive/MyDrive/Main dataset/Target spot',\n",
              " '/content/drive/MyDrive/Main dataset/Army worm',\n",
              " '/content/drive/MyDrive/Main dataset/Bacterial Blight',\n",
              " '/content/drive/MyDrive/Main dataset/Powdery Mildew',\n",
              " '/content/drive/MyDrive/Main dataset/Healthy']"
            ]
          },
          "metadata": {},
          "execution_count": 19
        }
      ]
    },
    {
      "cell_type": "markdown",
      "source": [
        "Flattening the model, so that we can add the number of nodes in the last layer, depending on the number of categories."
      ],
      "metadata": {
        "id": "7SlUcb6JD-5M"
      }
    },
    {
      "cell_type": "code",
      "source": [
        "x = Flatten()(resnet.output)"
      ],
      "metadata": {
        "id": "YpvrZ2m6D33V"
      },
      "execution_count": null,
      "outputs": []
    },
    {
      "cell_type": "markdown",
      "source": [
        "### Adding the Output Layer\n",
        "\n",
        "- Creating a Dense layer, with `#nodes = len(folders) = #categories`\n",
        "- Choosing Activation function as `softmax`, since it would provide probabilities across number of categories. If we had just 2 categories, then we could have used `sigmoid`.\n",
        "\n",
        "Finally, we initialise the model, with the input layers, and the output layer."
      ],
      "metadata": {
        "id": "tF0wEnKQEdvv"
      }
    },
    {
      "cell_type": "code",
      "source": [
        "prediction = Dense(len(folders), activation='softmax')(x)\n",
        "\n",
        "# Create model object\n",
        "model = Model(inputs=resnet.input, outputs=prediction)"
      ],
      "metadata": {
        "id": "n1tKJGQmEJa3"
      },
      "execution_count": null,
      "outputs": []
    },
    {
      "cell_type": "code",
      "source": [
        "model.summary()"
      ],
      "metadata": {
        "colab": {
          "base_uri": "https://localhost:8080/"
        },
        "id": "4Saf0wDREZLN",
        "outputId": "439621c9-cc99-41a8-cca9-78438c8a8324"
      },
      "execution_count": null,
      "outputs": [
        {
          "output_type": "stream",
          "name": "stdout",
          "text": [
            "Model: \"model_1\"\n",
            "__________________________________________________________________________________________________\n",
            " Layer (type)                   Output Shape         Param #     Connected to                     \n",
            "==================================================================================================\n",
            " input_1 (InputLayer)           [(None, 224, 224, 3  0           []                               \n",
            "                                )]                                                                \n",
            "                                                                                                  \n",
            " conv1_pad (ZeroPadding2D)      (None, 230, 230, 3)  0           ['input_1[0][0]']                \n",
            "                                                                                                  \n",
            " conv1_conv (Conv2D)            (None, 112, 112, 64  9472        ['conv1_pad[0][0]']              \n",
            "                                )                                                                 \n",
            "                                                                                                  \n",
            " conv1_bn (BatchNormalization)  (None, 112, 112, 64  256         ['conv1_conv[0][0]']             \n",
            "                                )                                                                 \n",
            "                                                                                                  \n",
            " conv1_relu (Activation)        (None, 112, 112, 64  0           ['conv1_bn[0][0]']               \n",
            "                                )                                                                 \n",
            "                                                                                                  \n",
            " pool1_pad (ZeroPadding2D)      (None, 114, 114, 64  0           ['conv1_relu[0][0]']             \n",
            "                                )                                                                 \n",
            "                                                                                                  \n",
            " pool1_pool (MaxPooling2D)      (None, 56, 56, 64)   0           ['pool1_pad[0][0]']              \n",
            "                                                                                                  \n",
            " conv2_block1_1_conv (Conv2D)   (None, 56, 56, 64)   4160        ['pool1_pool[0][0]']             \n",
            "                                                                                                  \n",
            " conv2_block1_1_bn (BatchNormal  (None, 56, 56, 64)  256         ['conv2_block1_1_conv[0][0]']    \n",
            " ization)                                                                                         \n",
            "                                                                                                  \n",
            " conv2_block1_1_relu (Activatio  (None, 56, 56, 64)  0           ['conv2_block1_1_bn[0][0]']      \n",
            " n)                                                                                               \n",
            "                                                                                                  \n",
            " conv2_block1_2_conv (Conv2D)   (None, 56, 56, 64)   36928       ['conv2_block1_1_relu[0][0]']    \n",
            "                                                                                                  \n",
            " conv2_block1_2_bn (BatchNormal  (None, 56, 56, 64)  256         ['conv2_block1_2_conv[0][0]']    \n",
            " ization)                                                                                         \n",
            "                                                                                                  \n",
            " conv2_block1_2_relu (Activatio  (None, 56, 56, 64)  0           ['conv2_block1_2_bn[0][0]']      \n",
            " n)                                                                                               \n",
            "                                                                                                  \n",
            " conv2_block1_0_conv (Conv2D)   (None, 56, 56, 256)  16640       ['pool1_pool[0][0]']             \n",
            "                                                                                                  \n",
            " conv2_block1_3_conv (Conv2D)   (None, 56, 56, 256)  16640       ['conv2_block1_2_relu[0][0]']    \n",
            "                                                                                                  \n",
            " conv2_block1_0_bn (BatchNormal  (None, 56, 56, 256)  1024       ['conv2_block1_0_conv[0][0]']    \n",
            " ization)                                                                                         \n",
            "                                                                                                  \n",
            " conv2_block1_3_bn (BatchNormal  (None, 56, 56, 256)  1024       ['conv2_block1_3_conv[0][0]']    \n",
            " ization)                                                                                         \n",
            "                                                                                                  \n",
            " conv2_block1_add (Add)         (None, 56, 56, 256)  0           ['conv2_block1_0_bn[0][0]',      \n",
            "                                                                  'conv2_block1_3_bn[0][0]']      \n",
            "                                                                                                  \n",
            " conv2_block1_out (Activation)  (None, 56, 56, 256)  0           ['conv2_block1_add[0][0]']       \n",
            "                                                                                                  \n",
            " conv2_block2_1_conv (Conv2D)   (None, 56, 56, 64)   16448       ['conv2_block1_out[0][0]']       \n",
            "                                                                                                  \n",
            " conv2_block2_1_bn (BatchNormal  (None, 56, 56, 64)  256         ['conv2_block2_1_conv[0][0]']    \n",
            " ization)                                                                                         \n",
            "                                                                                                  \n",
            " conv2_block2_1_relu (Activatio  (None, 56, 56, 64)  0           ['conv2_block2_1_bn[0][0]']      \n",
            " n)                                                                                               \n",
            "                                                                                                  \n",
            " conv2_block2_2_conv (Conv2D)   (None, 56, 56, 64)   36928       ['conv2_block2_1_relu[0][0]']    \n",
            "                                                                                                  \n",
            " conv2_block2_2_bn (BatchNormal  (None, 56, 56, 64)  256         ['conv2_block2_2_conv[0][0]']    \n",
            " ization)                                                                                         \n",
            "                                                                                                  \n",
            " conv2_block2_2_relu (Activatio  (None, 56, 56, 64)  0           ['conv2_block2_2_bn[0][0]']      \n",
            " n)                                                                                               \n",
            "                                                                                                  \n",
            " conv2_block2_3_conv (Conv2D)   (None, 56, 56, 256)  16640       ['conv2_block2_2_relu[0][0]']    \n",
            "                                                                                                  \n",
            " conv2_block2_3_bn (BatchNormal  (None, 56, 56, 256)  1024       ['conv2_block2_3_conv[0][0]']    \n",
            " ization)                                                                                         \n",
            "                                                                                                  \n",
            " conv2_block2_add (Add)         (None, 56, 56, 256)  0           ['conv2_block1_out[0][0]',       \n",
            "                                                                  'conv2_block2_3_bn[0][0]']      \n",
            "                                                                                                  \n",
            " conv2_block2_out (Activation)  (None, 56, 56, 256)  0           ['conv2_block2_add[0][0]']       \n",
            "                                                                                                  \n",
            " conv2_block3_1_conv (Conv2D)   (None, 56, 56, 64)   16448       ['conv2_block2_out[0][0]']       \n",
            "                                                                                                  \n",
            " conv2_block3_1_bn (BatchNormal  (None, 56, 56, 64)  256         ['conv2_block3_1_conv[0][0]']    \n",
            " ization)                                                                                         \n",
            "                                                                                                  \n",
            " conv2_block3_1_relu (Activatio  (None, 56, 56, 64)  0           ['conv2_block3_1_bn[0][0]']      \n",
            " n)                                                                                               \n",
            "                                                                                                  \n",
            " conv2_block3_2_conv (Conv2D)   (None, 56, 56, 64)   36928       ['conv2_block3_1_relu[0][0]']    \n",
            "                                                                                                  \n",
            " conv2_block3_2_bn (BatchNormal  (None, 56, 56, 64)  256         ['conv2_block3_2_conv[0][0]']    \n",
            " ization)                                                                                         \n",
            "                                                                                                  \n",
            " conv2_block3_2_relu (Activatio  (None, 56, 56, 64)  0           ['conv2_block3_2_bn[0][0]']      \n",
            " n)                                                                                               \n",
            "                                                                                                  \n",
            " conv2_block3_3_conv (Conv2D)   (None, 56, 56, 256)  16640       ['conv2_block3_2_relu[0][0]']    \n",
            "                                                                                                  \n",
            " conv2_block3_3_bn (BatchNormal  (None, 56, 56, 256)  1024       ['conv2_block3_3_conv[0][0]']    \n",
            " ization)                                                                                         \n",
            "                                                                                                  \n",
            " conv2_block3_add (Add)         (None, 56, 56, 256)  0           ['conv2_block2_out[0][0]',       \n",
            "                                                                  'conv2_block3_3_bn[0][0]']      \n",
            "                                                                                                  \n",
            " conv2_block3_out (Activation)  (None, 56, 56, 256)  0           ['conv2_block3_add[0][0]']       \n",
            "                                                                                                  \n",
            " conv3_block1_1_conv (Conv2D)   (None, 28, 28, 128)  32896       ['conv2_block3_out[0][0]']       \n",
            "                                                                                                  \n",
            " conv3_block1_1_bn (BatchNormal  (None, 28, 28, 128)  512        ['conv3_block1_1_conv[0][0]']    \n",
            " ization)                                                                                         \n",
            "                                                                                                  \n",
            " conv3_block1_1_relu (Activatio  (None, 28, 28, 128)  0          ['conv3_block1_1_bn[0][0]']      \n",
            " n)                                                                                               \n",
            "                                                                                                  \n",
            " conv3_block1_2_conv (Conv2D)   (None, 28, 28, 128)  147584      ['conv3_block1_1_relu[0][0]']    \n",
            "                                                                                                  \n",
            " conv3_block1_2_bn (BatchNormal  (None, 28, 28, 128)  512        ['conv3_block1_2_conv[0][0]']    \n",
            " ization)                                                                                         \n",
            "                                                                                                  \n",
            " conv3_block1_2_relu (Activatio  (None, 28, 28, 128)  0          ['conv3_block1_2_bn[0][0]']      \n",
            " n)                                                                                               \n",
            "                                                                                                  \n",
            " conv3_block1_0_conv (Conv2D)   (None, 28, 28, 512)  131584      ['conv2_block3_out[0][0]']       \n",
            "                                                                                                  \n",
            " conv3_block1_3_conv (Conv2D)   (None, 28, 28, 512)  66048       ['conv3_block1_2_relu[0][0]']    \n",
            "                                                                                                  \n",
            " conv3_block1_0_bn (BatchNormal  (None, 28, 28, 512)  2048       ['conv3_block1_0_conv[0][0]']    \n",
            " ization)                                                                                         \n",
            "                                                                                                  \n",
            " conv3_block1_3_bn (BatchNormal  (None, 28, 28, 512)  2048       ['conv3_block1_3_conv[0][0]']    \n",
            " ization)                                                                                         \n",
            "                                                                                                  \n",
            " conv3_block1_add (Add)         (None, 28, 28, 512)  0           ['conv3_block1_0_bn[0][0]',      \n",
            "                                                                  'conv3_block1_3_bn[0][0]']      \n",
            "                                                                                                  \n",
            " conv3_block1_out (Activation)  (None, 28, 28, 512)  0           ['conv3_block1_add[0][0]']       \n",
            "                                                                                                  \n",
            " conv3_block2_1_conv (Conv2D)   (None, 28, 28, 128)  65664       ['conv3_block1_out[0][0]']       \n",
            "                                                                                                  \n",
            " conv3_block2_1_bn (BatchNormal  (None, 28, 28, 128)  512        ['conv3_block2_1_conv[0][0]']    \n",
            " ization)                                                                                         \n",
            "                                                                                                  \n",
            " conv3_block2_1_relu (Activatio  (None, 28, 28, 128)  0          ['conv3_block2_1_bn[0][0]']      \n",
            " n)                                                                                               \n",
            "                                                                                                  \n",
            " conv3_block2_2_conv (Conv2D)   (None, 28, 28, 128)  147584      ['conv3_block2_1_relu[0][0]']    \n",
            "                                                                                                  \n",
            " conv3_block2_2_bn (BatchNormal  (None, 28, 28, 128)  512        ['conv3_block2_2_conv[0][0]']    \n",
            " ization)                                                                                         \n",
            "                                                                                                  \n",
            " conv3_block2_2_relu (Activatio  (None, 28, 28, 128)  0          ['conv3_block2_2_bn[0][0]']      \n",
            " n)                                                                                               \n",
            "                                                                                                  \n",
            " conv3_block2_3_conv (Conv2D)   (None, 28, 28, 512)  66048       ['conv3_block2_2_relu[0][0]']    \n",
            "                                                                                                  \n",
            " conv3_block2_3_bn (BatchNormal  (None, 28, 28, 512)  2048       ['conv3_block2_3_conv[0][0]']    \n",
            " ization)                                                                                         \n",
            "                                                                                                  \n",
            " conv3_block2_add (Add)         (None, 28, 28, 512)  0           ['conv3_block1_out[0][0]',       \n",
            "                                                                  'conv3_block2_3_bn[0][0]']      \n",
            "                                                                                                  \n",
            " conv3_block2_out (Activation)  (None, 28, 28, 512)  0           ['conv3_block2_add[0][0]']       \n",
            "                                                                                                  \n",
            " conv3_block3_1_conv (Conv2D)   (None, 28, 28, 128)  65664       ['conv3_block2_out[0][0]']       \n",
            "                                                                                                  \n",
            " conv3_block3_1_bn (BatchNormal  (None, 28, 28, 128)  512        ['conv3_block3_1_conv[0][0]']    \n",
            " ization)                                                                                         \n",
            "                                                                                                  \n",
            " conv3_block3_1_relu (Activatio  (None, 28, 28, 128)  0          ['conv3_block3_1_bn[0][0]']      \n",
            " n)                                                                                               \n",
            "                                                                                                  \n",
            " conv3_block3_2_conv (Conv2D)   (None, 28, 28, 128)  147584      ['conv3_block3_1_relu[0][0]']    \n",
            "                                                                                                  \n",
            " conv3_block3_2_bn (BatchNormal  (None, 28, 28, 128)  512        ['conv3_block3_2_conv[0][0]']    \n",
            " ization)                                                                                         \n",
            "                                                                                                  \n",
            " conv3_block3_2_relu (Activatio  (None, 28, 28, 128)  0          ['conv3_block3_2_bn[0][0]']      \n",
            " n)                                                                                               \n",
            "                                                                                                  \n",
            " conv3_block3_3_conv (Conv2D)   (None, 28, 28, 512)  66048       ['conv3_block3_2_relu[0][0]']    \n",
            "                                                                                                  \n",
            " conv3_block3_3_bn (BatchNormal  (None, 28, 28, 512)  2048       ['conv3_block3_3_conv[0][0]']    \n",
            " ization)                                                                                         \n",
            "                                                                                                  \n",
            " conv3_block3_add (Add)         (None, 28, 28, 512)  0           ['conv3_block2_out[0][0]',       \n",
            "                                                                  'conv3_block3_3_bn[0][0]']      \n",
            "                                                                                                  \n",
            " conv3_block3_out (Activation)  (None, 28, 28, 512)  0           ['conv3_block3_add[0][0]']       \n",
            "                                                                                                  \n",
            " conv3_block4_1_conv (Conv2D)   (None, 28, 28, 128)  65664       ['conv3_block3_out[0][0]']       \n",
            "                                                                                                  \n",
            " conv3_block4_1_bn (BatchNormal  (None, 28, 28, 128)  512        ['conv3_block4_1_conv[0][0]']    \n",
            " ization)                                                                                         \n",
            "                                                                                                  \n",
            " conv3_block4_1_relu (Activatio  (None, 28, 28, 128)  0          ['conv3_block4_1_bn[0][0]']      \n",
            " n)                                                                                               \n",
            "                                                                                                  \n",
            " conv3_block4_2_conv (Conv2D)   (None, 28, 28, 128)  147584      ['conv3_block4_1_relu[0][0]']    \n",
            "                                                                                                  \n",
            " conv3_block4_2_bn (BatchNormal  (None, 28, 28, 128)  512        ['conv3_block4_2_conv[0][0]']    \n",
            " ization)                                                                                         \n",
            "                                                                                                  \n",
            " conv3_block4_2_relu (Activatio  (None, 28, 28, 128)  0          ['conv3_block4_2_bn[0][0]']      \n",
            " n)                                                                                               \n",
            "                                                                                                  \n",
            " conv3_block4_3_conv (Conv2D)   (None, 28, 28, 512)  66048       ['conv3_block4_2_relu[0][0]']    \n",
            "                                                                                                  \n",
            " conv3_block4_3_bn (BatchNormal  (None, 28, 28, 512)  2048       ['conv3_block4_3_conv[0][0]']    \n",
            " ization)                                                                                         \n",
            "                                                                                                  \n",
            " conv3_block4_add (Add)         (None, 28, 28, 512)  0           ['conv3_block3_out[0][0]',       \n",
            "                                                                  'conv3_block4_3_bn[0][0]']      \n",
            "                                                                                                  \n",
            " conv3_block4_out (Activation)  (None, 28, 28, 512)  0           ['conv3_block4_add[0][0]']       \n",
            "                                                                                                  \n",
            " conv4_block1_1_conv (Conv2D)   (None, 14, 14, 256)  131328      ['conv3_block4_out[0][0]']       \n",
            "                                                                                                  \n",
            " conv4_block1_1_bn (BatchNormal  (None, 14, 14, 256)  1024       ['conv4_block1_1_conv[0][0]']    \n",
            " ization)                                                                                         \n",
            "                                                                                                  \n",
            " conv4_block1_1_relu (Activatio  (None, 14, 14, 256)  0          ['conv4_block1_1_bn[0][0]']      \n",
            " n)                                                                                               \n",
            "                                                                                                  \n",
            " conv4_block1_2_conv (Conv2D)   (None, 14, 14, 256)  590080      ['conv4_block1_1_relu[0][0]']    \n",
            "                                                                                                  \n",
            " conv4_block1_2_bn (BatchNormal  (None, 14, 14, 256)  1024       ['conv4_block1_2_conv[0][0]']    \n",
            " ization)                                                                                         \n",
            "                                                                                                  \n",
            " conv4_block1_2_relu (Activatio  (None, 14, 14, 256)  0          ['conv4_block1_2_bn[0][0]']      \n",
            " n)                                                                                               \n",
            "                                                                                                  \n",
            " conv4_block1_0_conv (Conv2D)   (None, 14, 14, 1024  525312      ['conv3_block4_out[0][0]']       \n",
            "                                )                                                                 \n",
            "                                                                                                  \n",
            " conv4_block1_3_conv (Conv2D)   (None, 14, 14, 1024  263168      ['conv4_block1_2_relu[0][0]']    \n",
            "                                )                                                                 \n",
            "                                                                                                  \n",
            " conv4_block1_0_bn (BatchNormal  (None, 14, 14, 1024  4096       ['conv4_block1_0_conv[0][0]']    \n",
            " ization)                       )                                                                 \n",
            "                                                                                                  \n",
            " conv4_block1_3_bn (BatchNormal  (None, 14, 14, 1024  4096       ['conv4_block1_3_conv[0][0]']    \n",
            " ization)                       )                                                                 \n",
            "                                                                                                  \n",
            " conv4_block1_add (Add)         (None, 14, 14, 1024  0           ['conv4_block1_0_bn[0][0]',      \n",
            "                                )                                 'conv4_block1_3_bn[0][0]']      \n",
            "                                                                                                  \n",
            " conv4_block1_out (Activation)  (None, 14, 14, 1024  0           ['conv4_block1_add[0][0]']       \n",
            "                                )                                                                 \n",
            "                                                                                                  \n",
            " conv4_block2_1_conv (Conv2D)   (None, 14, 14, 256)  262400      ['conv4_block1_out[0][0]']       \n",
            "                                                                                                  \n",
            " conv4_block2_1_bn (BatchNormal  (None, 14, 14, 256)  1024       ['conv4_block2_1_conv[0][0]']    \n",
            " ization)                                                                                         \n",
            "                                                                                                  \n",
            " conv4_block2_1_relu (Activatio  (None, 14, 14, 256)  0          ['conv4_block2_1_bn[0][0]']      \n",
            " n)                                                                                               \n",
            "                                                                                                  \n",
            " conv4_block2_2_conv (Conv2D)   (None, 14, 14, 256)  590080      ['conv4_block2_1_relu[0][0]']    \n",
            "                                                                                                  \n",
            " conv4_block2_2_bn (BatchNormal  (None, 14, 14, 256)  1024       ['conv4_block2_2_conv[0][0]']    \n",
            " ization)                                                                                         \n",
            "                                                                                                  \n",
            " conv4_block2_2_relu (Activatio  (None, 14, 14, 256)  0          ['conv4_block2_2_bn[0][0]']      \n",
            " n)                                                                                               \n",
            "                                                                                                  \n",
            " conv4_block2_3_conv (Conv2D)   (None, 14, 14, 1024  263168      ['conv4_block2_2_relu[0][0]']    \n",
            "                                )                                                                 \n",
            "                                                                                                  \n",
            " conv4_block2_3_bn (BatchNormal  (None, 14, 14, 1024  4096       ['conv4_block2_3_conv[0][0]']    \n",
            " ization)                       )                                                                 \n",
            "                                                                                                  \n",
            " conv4_block2_add (Add)         (None, 14, 14, 1024  0           ['conv4_block1_out[0][0]',       \n",
            "                                )                                 'conv4_block2_3_bn[0][0]']      \n",
            "                                                                                                  \n",
            " conv4_block2_out (Activation)  (None, 14, 14, 1024  0           ['conv4_block2_add[0][0]']       \n",
            "                                )                                                                 \n",
            "                                                                                                  \n",
            " conv4_block3_1_conv (Conv2D)   (None, 14, 14, 256)  262400      ['conv4_block2_out[0][0]']       \n",
            "                                                                                                  \n",
            " conv4_block3_1_bn (BatchNormal  (None, 14, 14, 256)  1024       ['conv4_block3_1_conv[0][0]']    \n",
            " ization)                                                                                         \n",
            "                                                                                                  \n",
            " conv4_block3_1_relu (Activatio  (None, 14, 14, 256)  0          ['conv4_block3_1_bn[0][0]']      \n",
            " n)                                                                                               \n",
            "                                                                                                  \n",
            " conv4_block3_2_conv (Conv2D)   (None, 14, 14, 256)  590080      ['conv4_block3_1_relu[0][0]']    \n",
            "                                                                                                  \n",
            " conv4_block3_2_bn (BatchNormal  (None, 14, 14, 256)  1024       ['conv4_block3_2_conv[0][0]']    \n",
            " ization)                                                                                         \n",
            "                                                                                                  \n",
            " conv4_block3_2_relu (Activatio  (None, 14, 14, 256)  0          ['conv4_block3_2_bn[0][0]']      \n",
            " n)                                                                                               \n",
            "                                                                                                  \n",
            " conv4_block3_3_conv (Conv2D)   (None, 14, 14, 1024  263168      ['conv4_block3_2_relu[0][0]']    \n",
            "                                )                                                                 \n",
            "                                                                                                  \n",
            " conv4_block3_3_bn (BatchNormal  (None, 14, 14, 1024  4096       ['conv4_block3_3_conv[0][0]']    \n",
            " ization)                       )                                                                 \n",
            "                                                                                                  \n",
            " conv4_block3_add (Add)         (None, 14, 14, 1024  0           ['conv4_block2_out[0][0]',       \n",
            "                                )                                 'conv4_block3_3_bn[0][0]']      \n",
            "                                                                                                  \n",
            " conv4_block3_out (Activation)  (None, 14, 14, 1024  0           ['conv4_block3_add[0][0]']       \n",
            "                                )                                                                 \n",
            "                                                                                                  \n",
            " conv4_block4_1_conv (Conv2D)   (None, 14, 14, 256)  262400      ['conv4_block3_out[0][0]']       \n",
            "                                                                                                  \n",
            " conv4_block4_1_bn (BatchNormal  (None, 14, 14, 256)  1024       ['conv4_block4_1_conv[0][0]']    \n",
            " ization)                                                                                         \n",
            "                                                                                                  \n",
            " conv4_block4_1_relu (Activatio  (None, 14, 14, 256)  0          ['conv4_block4_1_bn[0][0]']      \n",
            " n)                                                                                               \n",
            "                                                                                                  \n",
            " conv4_block4_2_conv (Conv2D)   (None, 14, 14, 256)  590080      ['conv4_block4_1_relu[0][0]']    \n",
            "                                                                                                  \n",
            " conv4_block4_2_bn (BatchNormal  (None, 14, 14, 256)  1024       ['conv4_block4_2_conv[0][0]']    \n",
            " ization)                                                                                         \n",
            "                                                                                                  \n",
            " conv4_block4_2_relu (Activatio  (None, 14, 14, 256)  0          ['conv4_block4_2_bn[0][0]']      \n",
            " n)                                                                                               \n",
            "                                                                                                  \n",
            " conv4_block4_3_conv (Conv2D)   (None, 14, 14, 1024  263168      ['conv4_block4_2_relu[0][0]']    \n",
            "                                )                                                                 \n",
            "                                                                                                  \n",
            " conv4_block4_3_bn (BatchNormal  (None, 14, 14, 1024  4096       ['conv4_block4_3_conv[0][0]']    \n",
            " ization)                       )                                                                 \n",
            "                                                                                                  \n",
            " conv4_block4_add (Add)         (None, 14, 14, 1024  0           ['conv4_block3_out[0][0]',       \n",
            "                                )                                 'conv4_block4_3_bn[0][0]']      \n",
            "                                                                                                  \n",
            " conv4_block4_out (Activation)  (None, 14, 14, 1024  0           ['conv4_block4_add[0][0]']       \n",
            "                                )                                                                 \n",
            "                                                                                                  \n",
            " conv4_block5_1_conv (Conv2D)   (None, 14, 14, 256)  262400      ['conv4_block4_out[0][0]']       \n",
            "                                                                                                  \n",
            " conv4_block5_1_bn (BatchNormal  (None, 14, 14, 256)  1024       ['conv4_block5_1_conv[0][0]']    \n",
            " ization)                                                                                         \n",
            "                                                                                                  \n",
            " conv4_block5_1_relu (Activatio  (None, 14, 14, 256)  0          ['conv4_block5_1_bn[0][0]']      \n",
            " n)                                                                                               \n",
            "                                                                                                  \n",
            " conv4_block5_2_conv (Conv2D)   (None, 14, 14, 256)  590080      ['conv4_block5_1_relu[0][0]']    \n",
            "                                                                                                  \n",
            " conv4_block5_2_bn (BatchNormal  (None, 14, 14, 256)  1024       ['conv4_block5_2_conv[0][0]']    \n",
            " ization)                                                                                         \n",
            "                                                                                                  \n",
            " conv4_block5_2_relu (Activatio  (None, 14, 14, 256)  0          ['conv4_block5_2_bn[0][0]']      \n",
            " n)                                                                                               \n",
            "                                                                                                  \n",
            " conv4_block5_3_conv (Conv2D)   (None, 14, 14, 1024  263168      ['conv4_block5_2_relu[0][0]']    \n",
            "                                )                                                                 \n",
            "                                                                                                  \n",
            " conv4_block5_3_bn (BatchNormal  (None, 14, 14, 1024  4096       ['conv4_block5_3_conv[0][0]']    \n",
            " ization)                       )                                                                 \n",
            "                                                                                                  \n",
            " conv4_block5_add (Add)         (None, 14, 14, 1024  0           ['conv4_block4_out[0][0]',       \n",
            "                                )                                 'conv4_block5_3_bn[0][0]']      \n",
            "                                                                                                  \n",
            " conv4_block5_out (Activation)  (None, 14, 14, 1024  0           ['conv4_block5_add[0][0]']       \n",
            "                                )                                                                 \n",
            "                                                                                                  \n",
            " conv4_block6_1_conv (Conv2D)   (None, 14, 14, 256)  262400      ['conv4_block5_out[0][0]']       \n",
            "                                                                                                  \n",
            " conv4_block6_1_bn (BatchNormal  (None, 14, 14, 256)  1024       ['conv4_block6_1_conv[0][0]']    \n",
            " ization)                                                                                         \n",
            "                                                                                                  \n",
            " conv4_block6_1_relu (Activatio  (None, 14, 14, 256)  0          ['conv4_block6_1_bn[0][0]']      \n",
            " n)                                                                                               \n",
            "                                                                                                  \n",
            " conv4_block6_2_conv (Conv2D)   (None, 14, 14, 256)  590080      ['conv4_block6_1_relu[0][0]']    \n",
            "                                                                                                  \n",
            " conv4_block6_2_bn (BatchNormal  (None, 14, 14, 256)  1024       ['conv4_block6_2_conv[0][0]']    \n",
            " ization)                                                                                         \n",
            "                                                                                                  \n",
            " conv4_block6_2_relu (Activatio  (None, 14, 14, 256)  0          ['conv4_block6_2_bn[0][0]']      \n",
            " n)                                                                                               \n",
            "                                                                                                  \n",
            " conv4_block6_3_conv (Conv2D)   (None, 14, 14, 1024  263168      ['conv4_block6_2_relu[0][0]']    \n",
            "                                )                                                                 \n",
            "                                                                                                  \n",
            " conv4_block6_3_bn (BatchNormal  (None, 14, 14, 1024  4096       ['conv4_block6_3_conv[0][0]']    \n",
            " ization)                       )                                                                 \n",
            "                                                                                                  \n",
            " conv4_block6_add (Add)         (None, 14, 14, 1024  0           ['conv4_block5_out[0][0]',       \n",
            "                                )                                 'conv4_block6_3_bn[0][0]']      \n",
            "                                                                                                  \n",
            " conv4_block6_out (Activation)  (None, 14, 14, 1024  0           ['conv4_block6_add[0][0]']       \n",
            "                                )                                                                 \n",
            "                                                                                                  \n",
            " conv5_block1_1_conv (Conv2D)   (None, 7, 7, 512)    524800      ['conv4_block6_out[0][0]']       \n",
            "                                                                                                  \n",
            " conv5_block1_1_bn (BatchNormal  (None, 7, 7, 512)   2048        ['conv5_block1_1_conv[0][0]']    \n",
            " ization)                                                                                         \n",
            "                                                                                                  \n",
            " conv5_block1_1_relu (Activatio  (None, 7, 7, 512)   0           ['conv5_block1_1_bn[0][0]']      \n",
            " n)                                                                                               \n",
            "                                                                                                  \n",
            " conv5_block1_2_conv (Conv2D)   (None, 7, 7, 512)    2359808     ['conv5_block1_1_relu[0][0]']    \n",
            "                                                                                                  \n",
            " conv5_block1_2_bn (BatchNormal  (None, 7, 7, 512)   2048        ['conv5_block1_2_conv[0][0]']    \n",
            " ization)                                                                                         \n",
            "                                                                                                  \n",
            " conv5_block1_2_relu (Activatio  (None, 7, 7, 512)   0           ['conv5_block1_2_bn[0][0]']      \n",
            " n)                                                                                               \n",
            "                                                                                                  \n",
            " conv5_block1_0_conv (Conv2D)   (None, 7, 7, 2048)   2099200     ['conv4_block6_out[0][0]']       \n",
            "                                                                                                  \n",
            " conv5_block1_3_conv (Conv2D)   (None, 7, 7, 2048)   1050624     ['conv5_block1_2_relu[0][0]']    \n",
            "                                                                                                  \n",
            " conv5_block1_0_bn (BatchNormal  (None, 7, 7, 2048)  8192        ['conv5_block1_0_conv[0][0]']    \n",
            " ization)                                                                                         \n",
            "                                                                                                  \n",
            " conv5_block1_3_bn (BatchNormal  (None, 7, 7, 2048)  8192        ['conv5_block1_3_conv[0][0]']    \n",
            " ization)                                                                                         \n",
            "                                                                                                  \n",
            " conv5_block1_add (Add)         (None, 7, 7, 2048)   0           ['conv5_block1_0_bn[0][0]',      \n",
            "                                                                  'conv5_block1_3_bn[0][0]']      \n",
            "                                                                                                  \n",
            " conv5_block1_out (Activation)  (None, 7, 7, 2048)   0           ['conv5_block1_add[0][0]']       \n",
            "                                                                                                  \n",
            " conv5_block2_1_conv (Conv2D)   (None, 7, 7, 512)    1049088     ['conv5_block1_out[0][0]']       \n",
            "                                                                                                  \n",
            " conv5_block2_1_bn (BatchNormal  (None, 7, 7, 512)   2048        ['conv5_block2_1_conv[0][0]']    \n",
            " ization)                                                                                         \n",
            "                                                                                                  \n",
            " conv5_block2_1_relu (Activatio  (None, 7, 7, 512)   0           ['conv5_block2_1_bn[0][0]']      \n",
            " n)                                                                                               \n",
            "                                                                                                  \n",
            " conv5_block2_2_conv (Conv2D)   (None, 7, 7, 512)    2359808     ['conv5_block2_1_relu[0][0]']    \n",
            "                                                                                                  \n",
            " conv5_block2_2_bn (BatchNormal  (None, 7, 7, 512)   2048        ['conv5_block2_2_conv[0][0]']    \n",
            " ization)                                                                                         \n",
            "                                                                                                  \n",
            " conv5_block2_2_relu (Activatio  (None, 7, 7, 512)   0           ['conv5_block2_2_bn[0][0]']      \n",
            " n)                                                                                               \n",
            "                                                                                                  \n",
            " conv5_block2_3_conv (Conv2D)   (None, 7, 7, 2048)   1050624     ['conv5_block2_2_relu[0][0]']    \n",
            "                                                                                                  \n",
            " conv5_block2_3_bn (BatchNormal  (None, 7, 7, 2048)  8192        ['conv5_block2_3_conv[0][0]']    \n",
            " ization)                                                                                         \n",
            "                                                                                                  \n",
            " conv5_block2_add (Add)         (None, 7, 7, 2048)   0           ['conv5_block1_out[0][0]',       \n",
            "                                                                  'conv5_block2_3_bn[0][0]']      \n",
            "                                                                                                  \n",
            " conv5_block2_out (Activation)  (None, 7, 7, 2048)   0           ['conv5_block2_add[0][0]']       \n",
            "                                                                                                  \n",
            " conv5_block3_1_conv (Conv2D)   (None, 7, 7, 512)    1049088     ['conv5_block2_out[0][0]']       \n",
            "                                                                                                  \n",
            " conv5_block3_1_bn (BatchNormal  (None, 7, 7, 512)   2048        ['conv5_block3_1_conv[0][0]']    \n",
            " ization)                                                                                         \n",
            "                                                                                                  \n",
            " conv5_block3_1_relu (Activatio  (None, 7, 7, 512)   0           ['conv5_block3_1_bn[0][0]']      \n",
            " n)                                                                                               \n",
            "                                                                                                  \n",
            " conv5_block3_2_conv (Conv2D)   (None, 7, 7, 512)    2359808     ['conv5_block3_1_relu[0][0]']    \n",
            "                                                                                                  \n",
            " conv5_block3_2_bn (BatchNormal  (None, 7, 7, 512)   2048        ['conv5_block3_2_conv[0][0]']    \n",
            " ization)                                                                                         \n",
            "                                                                                                  \n",
            " conv5_block3_2_relu (Activatio  (None, 7, 7, 512)   0           ['conv5_block3_2_bn[0][0]']      \n",
            " n)                                                                                               \n",
            "                                                                                                  \n",
            " conv5_block3_3_conv (Conv2D)   (None, 7, 7, 2048)   1050624     ['conv5_block3_2_relu[0][0]']    \n",
            "                                                                                                  \n",
            " conv5_block3_3_bn (BatchNormal  (None, 7, 7, 2048)  8192        ['conv5_block3_3_conv[0][0]']    \n",
            " ization)                                                                                         \n",
            "                                                                                                  \n",
            " conv5_block3_add (Add)         (None, 7, 7, 2048)   0           ['conv5_block2_out[0][0]',       \n",
            "                                                                  'conv5_block3_3_bn[0][0]']      \n",
            "                                                                                                  \n",
            " conv5_block3_out (Activation)  (None, 7, 7, 2048)   0           ['conv5_block3_add[0][0]']       \n",
            "                                                                                                  \n",
            " flatten_1 (Flatten)            (None, 100352)       0           ['conv5_block3_out[0][0]']       \n",
            "                                                                                                  \n",
            " dense_1 (Dense)                (None, 6)            602118      ['flatten_1[0][0]']              \n",
            "                                                                                                  \n",
            "==================================================================================================\n",
            "Total params: 24,189,830\n",
            "Trainable params: 602,118\n",
            "Non-trainable params: 23,587,712\n",
            "__________________________________________________________________________________________________\n"
          ]
        }
      ]
    },
    {
      "cell_type": "markdown",
      "source": [
        "### Choosing the cost, optimization method and metric"
      ],
      "metadata": {
        "id": "zR8eERkcFkQc"
      }
    },
    {
      "cell_type": "code",
      "source": [
        "model.compile(\n",
        "    loss='categorical_crossentropy',\n",
        "    optimizer='adam',\n",
        "    metrics=['accuracy']\n",
        ")"
      ],
      "metadata": {
        "id": "3BGv9QcrEbxR"
      },
      "execution_count": null,
      "outputs": []
    },
    {
      "cell_type": "markdown",
      "source": [
        "## Data Augmentation"
      ],
      "metadata": {
        "id": "V4H62XU3F4B7"
      }
    },
    {
      "cell_type": "code",
      "source": [
        "train_datagen = ImageDataGenerator(rescale = 1./255, shear_range = 0.2, zoom_range = 0.2, horizontal_flip = True)\n",
        "\n",
        "test_datagen = ImageDataGenerator(rescale = 1./255)"
      ],
      "metadata": {
        "id": "2dgssOAUFuD_"
      },
      "execution_count": null,
      "outputs": []
    },
    {
      "cell_type": "code",
      "source": [
        "training_set = train_datagen.flow_from_directory(train_path, target_size = (224, 224), batch_size = 32, class_mode = 'categorical')"
      ],
      "metadata": {
        "colab": {
          "base_uri": "https://localhost:8080/"
        },
        "id": "ef55v3y8GPOA",
        "outputId": "e507af19-d62e-4715-bc25-9d8ef6b4e5ba"
      },
      "execution_count": null,
      "outputs": [
        {
          "output_type": "stream",
          "name": "stdout",
          "text": [
            "Found 3481 images belonging to 6 classes.\n"
          ]
        }
      ]
    },
    {
      "cell_type": "code",
      "source": [
        "test_set = test_datagen.flow_from_directory(valid_path, target_size=(224, 224), batch_size = 32, class_mode = 'categorical')"
      ],
      "metadata": {
        "colab": {
          "base_uri": "https://localhost:8080/"
        },
        "id": "REb-tD0KGv4-",
        "outputId": "f2ec9688-a2d3-4511-e6c6-216a3d600aa6"
      },
      "execution_count": null,
      "outputs": [
        {
          "output_type": "stream",
          "name": "stdout",
          "text": [
            "Found 120 images belonging to 6 classes.\n"
          ]
        }
      ]
    },
    {
      "cell_type": "markdown",
      "source": [
        "## Fit the model"
      ],
      "metadata": {
        "id": "Spz8CPY2KJKy"
      }
    },
    {
      "cell_type": "code",
      "source": [
        "r = model.fit(\n",
        "    training_set,\n",
        "    validation_data = test_set,\n",
        "    epochs = 30,\n",
        "    steps_per_epoch = len(training_set),\n",
        "    validation_steps = len(test_set)\n",
        ")"
      ],
      "metadata": {
        "colab": {
          "base_uri": "https://localhost:8080/"
        },
        "id": "s1A7_qYrG7zW",
        "outputId": "25987ea4-bd27-4ba3-e9ec-1336081b2463"
      },
      "execution_count": null,
      "outputs": [
        {
          "output_type": "stream",
          "name": "stdout",
          "text": [
            "Epoch 1/30\n",
            "109/109 [==============================] - 885s 8s/step - loss: 3.2538 - accuracy: 0.2867 - val_loss: 1.3648 - val_accuracy: 0.4750\n",
            "Epoch 2/30\n",
            "109/109 [==============================] - 757s 7s/step - loss: 1.5669 - accuracy: 0.4332 - val_loss: 1.0524 - val_accuracy: 0.5917\n",
            "Epoch 3/30\n",
            "109/109 [==============================] - 775s 7s/step - loss: 1.4737 - accuracy: 0.4648 - val_loss: 0.9065 - val_accuracy: 0.6833\n",
            "Epoch 4/30\n",
            "109/109 [==============================] - 765s 7s/step - loss: 1.3845 - accuracy: 0.5191 - val_loss: 0.9127 - val_accuracy: 0.6250\n",
            "Epoch 5/30\n",
            "109/109 [==============================] - 759s 7s/step - loss: 1.3382 - accuracy: 0.5111 - val_loss: 0.6624 - val_accuracy: 0.7667\n",
            "Epoch 6/30\n",
            "109/109 [==============================] - 752s 7s/step - loss: 1.3722 - accuracy: 0.5197 - val_loss: 0.9675 - val_accuracy: 0.6333\n",
            "Epoch 7/30\n",
            "109/109 [==============================] - 777s 7s/step - loss: 1.3074 - accuracy: 0.5455 - val_loss: 1.0308 - val_accuracy: 0.6167\n",
            "Epoch 8/30\n",
            "109/109 [==============================] - 781s 7s/step - loss: 1.1427 - accuracy: 0.5797 - val_loss: 0.9187 - val_accuracy: 0.6583\n",
            "Epoch 9/30\n",
            "109/109 [==============================] - 772s 7s/step - loss: 1.3850 - accuracy: 0.5547 - val_loss: 0.7653 - val_accuracy: 0.7250\n",
            "Epoch 10/30\n",
            "109/109 [==============================] - 758s 7s/step - loss: 1.1938 - accuracy: 0.5855 - val_loss: 1.0266 - val_accuracy: 0.6667\n",
            "Epoch 11/30\n",
            "109/109 [==============================] - 776s 7s/step - loss: 1.1799 - accuracy: 0.6004 - val_loss: 0.8178 - val_accuracy: 0.7000\n",
            "Epoch 12/30\n",
            "109/109 [==============================] - 772s 7s/step - loss: 1.1228 - accuracy: 0.6265 - val_loss: 0.6689 - val_accuracy: 0.7333\n",
            "Epoch 13/30\n",
            "109/109 [==============================] - 808s 7s/step - loss: 1.0891 - accuracy: 0.6225 - val_loss: 0.6363 - val_accuracy: 0.7667\n",
            "Epoch 14/30\n",
            "109/109 [==============================] - 799s 7s/step - loss: 1.0789 - accuracy: 0.6248 - val_loss: 0.5442 - val_accuracy: 0.7667\n",
            "Epoch 15/30\n",
            "109/109 [==============================] - 781s 7s/step - loss: 1.1481 - accuracy: 0.6199 - val_loss: 1.0552 - val_accuracy: 0.6333\n",
            "Epoch 16/30\n",
            "109/109 [==============================] - 815s 7s/step - loss: 1.1141 - accuracy: 0.6105 - val_loss: 0.8283 - val_accuracy: 0.6167\n",
            "Epoch 17/30\n",
            "109/109 [==============================] - 790s 7s/step - loss: 1.0655 - accuracy: 0.6383 - val_loss: 0.8621 - val_accuracy: 0.7000\n",
            "Epoch 18/30\n",
            "109/109 [==============================] - 806s 7s/step - loss: 1.1661 - accuracy: 0.6151 - val_loss: 0.7782 - val_accuracy: 0.7083\n",
            "Epoch 19/30\n",
            "109/109 [==============================] - 786s 7s/step - loss: 0.8559 - accuracy: 0.6808 - val_loss: 0.9034 - val_accuracy: 0.6583\n",
            "Epoch 20/30\n",
            "109/109 [==============================] - 753s 7s/step - loss: 1.1279 - accuracy: 0.6357 - val_loss: 0.8373 - val_accuracy: 0.7083\n",
            "Epoch 21/30\n",
            "109/109 [==============================] - 764s 7s/step - loss: 1.0808 - accuracy: 0.6426 - val_loss: 0.4761 - val_accuracy: 0.8250\n",
            "Epoch 22/30\n",
            "109/109 [==============================] - 767s 7s/step - loss: 0.8745 - accuracy: 0.6817 - val_loss: 0.5338 - val_accuracy: 0.7667\n",
            "Epoch 23/30\n",
            "109/109 [==============================] - 796s 7s/step - loss: 1.0946 - accuracy: 0.6501 - val_loss: 0.7480 - val_accuracy: 0.7333\n",
            "Epoch 24/30\n",
            "109/109 [==============================] - 804s 7s/step - loss: 1.1484 - accuracy: 0.6389 - val_loss: 0.6213 - val_accuracy: 0.7583\n",
            "Epoch 25/30\n",
            "109/109 [==============================] - 801s 7s/step - loss: 1.3378 - accuracy: 0.6168 - val_loss: 0.6037 - val_accuracy: 0.8000\n",
            "Epoch 26/30\n",
            "109/109 [==============================] - 775s 7s/step - loss: 0.9676 - accuracy: 0.6676 - val_loss: 0.5760 - val_accuracy: 0.8000\n",
            "Epoch 27/30\n",
            "109/109 [==============================] - 737s 7s/step - loss: 0.9789 - accuracy: 0.6705 - val_loss: 0.5790 - val_accuracy: 0.7917\n",
            "Epoch 28/30\n",
            "109/109 [==============================] - 756s 7s/step - loss: 0.8362 - accuracy: 0.7116 - val_loss: 0.5873 - val_accuracy: 0.7500\n",
            "Epoch 29/30\n",
            "109/109 [==============================] - 745s 7s/step - loss: 0.9255 - accuracy: 0.6975 - val_loss: 0.5184 - val_accuracy: 0.8333\n",
            "Epoch 30/30\n",
            "109/109 [==============================] - 756s 7s/step - loss: 1.0509 - accuracy: 0.6708 - val_loss: 0.6323 - val_accuracy: 0.7333\n"
          ]
        }
      ]
    },
    {
      "cell_type": "markdown",
      "source": [
        "## Visualizations"
      ],
      "metadata": {
        "id": "Os2LXGT5Q6UL"
      }
    },
    {
      "cell_type": "code",
      "source": [
        "# Plot the Loss\n",
        "plt.plot(r.history['loss'], label='Train Loss')\n",
        "plt.plot(r.history['val_loss'], label='Validation Loss')\n",
        "plt.title('Comparison of Train Loss and Validation Loss')\n",
        "plt.legend()\n",
        "plt.savefig('loss_and_val_loss')\n",
        "plt.show()\n",
        "\n",
        "# Plot the Accuracy\n",
        "plt.plot(r.history['accuracy'], label='Train Accuracy')\n",
        "plt.plot(r.history['val_accuracy'], label='Validation Accuracy')\n",
        "plt.title('Comparison of Train Accuracy and Validation Accuracy')\n",
        "plt.legend()\n",
        "plt.savefig('accuracy_and_val_accuracy')\n",
        "plt.show()"
      ],
      "metadata": {
        "colab": {
          "base_uri": "https://localhost:8080/",
          "height": 887
        },
        "id": "E6ZyC3ZoKcPa",
        "outputId": "9cee2abb-9b0c-41db-e1a4-03418b4e946f"
      },
      "execution_count": null,
      "outputs": [
        {
          "output_type": "display_data",
          "data": {
            "text/plain": [
              "<Figure size 640x480 with 1 Axes>"
            ],
            "image/png": "[encoded data removed]"
          },
          "metadata": {}
        },
        {
          "output_type": "display_data",
          "data": {
            "text/plain": [
              "<Figure size 640x480 with 1 Axes>"
            ],
            "image/png": "[encoded data removed]"
          },
          "metadata": {}
        }
      ]
    },
    {
      "cell_type": "markdown",
      "source": [
        "## Save the model"
      ],
      "metadata": {
        "id": "3sRpfMd9Rqz6"
      }
    },
    {
      "cell_type": "code",
      "source": [
        "model.save('cotton_disease_resent50.h5')"
      ],
      "metadata": {
        "id": "ISrGA_X-Raax"
      },
      "execution_count": null,
      "outputs": []
    },
    {
      "cell_type": "markdown",
      "source": [
        "## Predictions"
      ],
      "metadata": {
        "id": "7X44uu-kRs8R"
      }
    },
    {
      "cell_type": "code",
      "source": [
        "y_pred = model.predict(test_set)\n",
        "y_pred # Shows the probabilities of each category for each image from the test dataset"
      ],
      "metadata": {
        "colab": {
          "base_uri": "https://localhost:8080/"
        },
        "id": "4_XGE0lFRoyy",
        "outputId": "3b6fcc66-ca73-4297-c3fb-40968080898d"
      },
      "execution_count": null,
      "outputs": [
        {
          "output_type": "stream",
          "name": "stdout",
          "text": [
            "4/4 [==============================] - 34s 7s/step\n"
          ]
        },
        {
          "output_type": "execute_result",
          "data": {
            "text/plain": [
              "array([[2.16138866e-02, 1.55298421e-05, 7.99460709e-03, 6.72894478e-01,\n",
              "        2.71602362e-01, 2.58790962e-02],\n",
              "       [6.69907458e-05, 9.71076369e-01, 2.62271242e-05, 2.86820717e-02,\n",
              "        7.21611215e-08, 1.48084437e-04],\n",
              "       [5.89754467e-10, 1.82792587e-06, 9.99985993e-01, 8.10428560e-08,\n",
              "        3.49706539e-07, 1.17219943e-05],\n",
              "       [3.96487832e-01, 7.91220069e-02, 3.61090988e-01, 3.71750593e-02,\n",
              "        1.17434300e-01, 8.68974067e-03],\n",
              "       [5.87678015e-01, 1.14841364e-01, 1.30749822e-01, 2.85153184e-02,\n",
              "        6.00947125e-04, 1.37614474e-01],\n",
              "       [4.10640387e-05, 1.00192692e-05, 4.42878554e-05, 9.99191821e-01,\n",
              "        8.55632933e-08, 7.12638663e-04],\n",
              "       [5.73572479e-02, 9.93372053e-02, 3.99523266e-02, 7.93877721e-01,\n",
              "        1.23080303e-04, 9.35233664e-03],\n",
              "       [2.44013555e-02, 2.79015512e-04, 3.82092372e-02, 1.60757974e-09,\n",
              "        9.37103629e-01, 6.65584412e-06],\n",
              "       [1.19512354e-03, 5.70428601e-05, 9.92426932e-01, 6.23241905e-03,\n",
              "        4.13413339e-08, 8.85317204e-05],\n",
              "       [2.82202251e-02, 4.06178675e-04, 1.68165743e-01, 2.19319031e-01,\n",
              "        1.57201085e-02, 5.68168700e-01],\n",
              "       [5.35144150e-01, 1.28596807e-02, 8.88867900e-02, 6.51011709e-03,\n",
              "        2.86911190e-01, 6.96879774e-02],\n",
              "       [1.57360896e-03, 2.90845579e-04, 1.96801411e-04, 9.96666968e-01,\n",
              "        2.05872925e-06, 1.26968790e-03],\n",
              "       [6.68138042e-02, 3.21868151e-01, 7.04945102e-02, 5.86636327e-02,\n",
              "        1.50147578e-04, 4.82009560e-01],\n",
              "       [9.98173058e-01, 1.13706767e-04, 4.16870374e-04, 1.59392528e-07,\n",
              "        1.29445770e-03, 1.67935548e-06],\n",
              "       [9.92968417e-05, 9.95218217e-01, 2.15056608e-03, 1.60062697e-03,\n",
              "        2.71759291e-07, 9.30948823e-04],\n",
              "       [2.68107087e-05, 1.33675087e-07, 4.88457008e-05, 9.99636173e-01,\n",
              "        1.33921858e-07, 2.87913426e-04],\n",
              "       [4.63444943e-04, 1.24883067e-04, 3.80531099e-04, 9.94550943e-01,\n",
              "        1.05026368e-06, 4.47912095e-03],\n",
              "       [1.91630289e-01, 5.87210106e-03, 4.72551025e-02, 1.63066783e-04,\n",
              "        7.54253805e-01, 8.25676892e-04],\n",
              "       [1.06055895e-05, 6.25336725e-06, 7.16758541e-06, 9.99566019e-01,\n",
              "        5.53580037e-07, 4.09293541e-04],\n",
              "       [1.72649423e-15, 1.43762213e-09, 5.46507672e-10, 8.16599066e-10,\n",
              "        9.99999940e-01, 5.15797494e-09],\n",
              "       [5.01568138e-06, 1.72842249e-06, 1.75267287e-05, 9.99553382e-01,\n",
              "        6.77068490e-09, 4.22266079e-04],\n",
              "       [5.01524746e-01, 1.46062234e-02, 1.52049232e-02, 9.46722925e-02,\n",
              "        1.86339475e-03, 3.72128308e-01],\n",
              "       [9.96302962e-01, 3.25279450e-03, 2.48556898e-04, 6.27205145e-06,\n",
              "        1.07332031e-04, 8.19675479e-05],\n",
              "       [1.03721589e-01, 1.10114622e-03, 6.25108257e-02, 3.81719828e-01,\n",
              "        1.73857749e-01, 2.77088821e-01],\n",
              "       [1.49852613e-05, 2.55650889e-07, 1.10574292e-05, 9.97629881e-01,\n",
              "        1.24108780e-07, 2.34371261e-03],\n",
              "       [2.50480243e-05, 1.57198542e-06, 4.69997249e-05, 9.97373641e-01,\n",
              "        6.29339496e-08, 2.55260780e-03],\n",
              "       [5.00773662e-04, 9.98560309e-01, 9.36118129e-04, 1.13556794e-07,\n",
              "        1.54589384e-06, 1.12618477e-06],\n",
              "       [3.02395880e-01, 2.35685438e-01, 2.39899293e-01, 6.97600655e-03,\n",
              "        1.84224185e-03, 2.13201210e-01],\n",
              "       [9.89136100e-01, 1.47545163e-03, 1.75469802e-04, 1.71340094e-03,\n",
              "        6.84780171e-05, 7.43103586e-03],\n",
              "       [9.99850273e-01, 3.23948029e-06, 7.03753612e-05, 2.32647306e-08,\n",
              "        7.61265619e-05, 1.08514115e-07],\n",
              "       [7.01216948e-07, 4.91963146e-06, 3.10014933e-04, 8.91681062e-04,\n",
              "        3.46973479e-06, 9.98789310e-01],\n",
              "       [9.86302257e-01, 3.67182819e-03, 2.08256557e-03, 2.80157803e-03,\n",
              "        2.54204060e-05, 5.11646364e-03],\n",
              "       [1.50837198e-01, 2.45811697e-02, 6.00627005e-01, 1.99497190e-05,\n",
              "        2.22617432e-01, 1.31722481e-03],\n",
              "       [1.36997560e-05, 9.99628127e-01, 3.44091270e-04, 6.92238530e-07,\n",
              "        1.09023532e-07, 1.31780944e-05],\n",
              "       [6.64651573e-01, 2.47322265e-02, 8.17805156e-03, 6.95427507e-02,\n",
              "        1.69318527e-01, 6.35767952e-02],\n",
              "       [1.44927215e-03, 2.83189380e-04, 1.69206727e-02, 9.73326206e-01,\n",
              "        1.84935452e-05, 8.00204929e-03],\n",
              "       [1.80002719e-01, 1.67018753e-02, 1.44122047e-02, 2.97013849e-01,\n",
              "        2.29291571e-03, 4.89576340e-01],\n",
              "       [3.42569679e-01, 8.54979735e-04, 5.64422846e-01, 1.13884127e-03,\n",
              "        7.85216540e-02, 1.24919359e-02],\n",
              "       [7.64937103e-01, 8.38161504e-05, 3.31194210e-03, 1.69683710e-01,\n",
              "        3.23839572e-06, 6.19801432e-02],\n",
              "       [1.40414871e-02, 9.78310406e-01, 4.50695120e-03, 1.80882937e-03,\n",
              "        2.85495735e-05, 1.30371610e-03],\n",
              "       [4.41076793e-02, 3.64558073e-03, 6.71778798e-01, 4.65821289e-03,\n",
              "        2.73029149e-01, 2.78060441e-03],\n",
              "       [4.02889826e-04, 3.92322137e-04, 4.77757538e-03, 9.70999718e-01,\n",
              "        2.09975690e-02, 2.42984551e-03],\n",
              "       [8.54983751e-04, 9.90589142e-01, 7.25451717e-03, 3.89278466e-05,\n",
              "        1.97345416e-05, 1.24272530e-03],\n",
              "       [3.26209847e-04, 4.44294827e-04, 9.96808946e-01, 2.40378315e-03,\n",
              "        2.17550863e-07, 1.65755137e-05],\n",
              "       [6.10975623e-01, 3.39928150e-01, 2.55792644e-02, 1.89391850e-03,\n",
              "        2.54239910e-03, 1.90805104e-02],\n",
              "       [5.10989688e-02, 1.62421144e-03, 3.00691146e-02, 2.30739133e-05,\n",
              "        9.00009394e-01, 1.71752181e-02],\n",
              "       [6.30604208e-01, 2.65347838e-01, 1.01629168e-01, 2.79370666e-04,\n",
              "        7.04651000e-04, 1.43482548e-03],\n",
              "       [1.17425404e-01, 5.05071461e-01, 3.36517513e-01, 3.26516670e-06,\n",
              "        3.66696231e-02, 4.31275694e-03],\n",
              "       [1.53348607e-03, 9.97901797e-01, 1.41559212e-04, 4.17978241e-04,\n",
              "        4.00255047e-08, 5.09450183e-06],\n",
              "       [3.35690044e-02, 5.60066081e-04, 1.65678978e-01, 1.95645839e-01,\n",
              "        1.27740554e-03, 6.03268743e-01],\n",
              "       [4.14860755e-01, 1.10081048e-03, 2.32514799e-01, 4.55560425e-04,\n",
              "        3.39967519e-01, 1.11005763e-02],\n",
              "       [1.92010907e-06, 9.99855280e-01, 5.46325282e-05, 3.50100904e-09,\n",
              "        5.59441069e-05, 3.24174180e-05],\n",
              "       [7.14282095e-01, 9.11204424e-03, 1.34560779e-01, 7.90595915e-03,\n",
              "        1.08421244e-01, 2.57179197e-02],\n",
              "       [5.83287874e-05, 1.36226636e-05, 1.68995048e-05, 9.98195946e-01,\n",
              "        2.21912675e-08, 1.71523448e-03],\n",
              "       [1.73684657e-02, 1.88533008e-01, 7.77616024e-01, 3.35943210e-03,\n",
              "        4.97722882e-04, 1.26253609e-02],\n",
              "       [9.76550102e-01, 1.93060434e-04, 1.07464625e-03, 7.37352650e-08,\n",
              "        2.21796036e-02, 2.47189564e-06],\n",
              "       [6.08106107e-02, 5.58989588e-03, 5.61949387e-02, 6.31889939e-01,\n",
              "        3.27005982e-04, 2.45187610e-01],\n",
              "       [7.62226209e-02, 1.73312388e-02, 3.32531482e-02, 6.05039954e-01,\n",
              "        3.76521581e-04, 2.67776549e-01],\n",
              "       [2.96491726e-06, 2.27531436e-05, 3.51770577e-05, 4.51213715e-08,\n",
              "        9.99939024e-01, 5.75699488e-08],\n",
              "       [2.06273302e-01, 5.70097985e-03, 4.46139602e-03, 3.56810272e-01,\n",
              "        7.92226856e-05, 4.26674724e-01],\n",
              "       [5.11268303e-02, 1.69012998e-03, 6.94426894e-02, 1.10833142e-02,\n",
              "        7.14384973e-01, 1.52272016e-01],\n",
              "       [9.98320758e-01, 5.79313375e-04, 8.73121957e-04, 2.14243788e-04,\n",
              "        4.40177281e-08, 1.24797161e-05],\n",
              "       [5.91750431e-04, 5.13847635e-06, 3.35520841e-02, 3.47608443e-06,\n",
              "        9.65832949e-01, 1.45809900e-05],\n",
              "       [9.57156479e-01, 2.01342683e-02, 1.62657313e-02, 2.22602719e-03,\n",
              "        5.87777700e-04, 3.62971448e-03],\n",
              "       [1.11745783e-06, 9.99962986e-01, 3.32662494e-05, 3.86036163e-07,\n",
              "        1.61388652e-10, 2.27686314e-06],\n",
              "       [2.64099240e-03, 5.66396775e-05, 4.17072058e-01, 3.17649543e-01,\n",
              "        5.61290653e-03, 2.56967783e-01],\n",
              "       [1.88368455e-01, 1.51235936e-05, 7.61209801e-03, 7.95146465e-01,\n",
              "        7.81130802e-04, 8.07666685e-03],\n",
              "       [6.74430048e-05, 6.37335107e-02, 9.07105327e-01, 3.11568961e-03,\n",
              "        9.88249958e-05, 2.58792266e-02],\n",
              "       [2.37195686e-01, 8.87830742e-03, 7.27703273e-01, 2.52824910e-02,\n",
              "        8.02015805e-08, 9.40113037e-04],\n",
              "       [2.23540319e-05, 5.77563105e-06, 1.93545406e-04, 9.99170482e-01,\n",
              "        1.29784003e-05, 5.94866404e-04],\n",
              "       [5.19524608e-03, 1.26104895e-03, 1.71946883e-02, 2.48977840e-02,\n",
              "        1.35851803e-03, 9.50092733e-01],\n",
              "       [9.87011373e-01, 3.14008095e-03, 9.47615784e-03, 1.77604437e-04,\n",
              "        3.02127573e-05, 1.64441255e-04],\n",
              "       [6.67228937e-01, 8.64324253e-03, 1.18005857e-01, 8.56954232e-02,\n",
              "        2.57506326e-04, 1.20169088e-01],\n",
              "       [9.93597686e-01, 5.44112263e-05, 3.15403054e-03, 4.79652635e-06,\n",
              "        3.16944462e-03, 1.96481178e-05],\n",
              "       [1.18153275e-03, 9.98206019e-01, 3.15611251e-05, 4.15674469e-04,\n",
              "        7.25409706e-08, 1.65157937e-04],\n",
              "       [5.25495328e-04, 4.47997190e-02, 9.54428017e-01, 1.67563849e-06,\n",
              "        2.41312679e-04, 3.71577676e-06],\n",
              "       [2.96376888e-02, 3.93971428e-03, 9.50026929e-01, 1.46683911e-02,\n",
              "        2.89726217e-04, 1.43746601e-03],\n",
              "       [8.81994069e-01, 1.96288042e-02, 8.76556560e-02, 5.65683842e-03,\n",
              "        2.81149260e-04, 4.78343386e-03],\n",
              "       [1.08416891e-04, 1.36206540e-06, 9.27695364e-05, 9.98719513e-01,\n",
              "        4.03464043e-07, 1.07757549e-03],\n",
              "       [2.37879246e-01, 9.23654139e-02, 6.60621345e-01, 5.10627324e-05,\n",
              "        8.37230310e-03, 7.10650114e-04],\n",
              "       [2.12637963e-11, 9.99997556e-01, 2.35328071e-06, 3.47620370e-11,\n",
              "        1.60636920e-17, 1.73918085e-16],\n",
              "       [5.34369203e-04, 9.98221278e-01, 6.82728540e-04, 6.68480570e-05,\n",
              "        9.68964832e-06, 4.85209544e-04],\n",
              "       [2.13351250e-05, 2.78470594e-07, 4.78048651e-06, 9.99770880e-01,\n",
              "        4.50653005e-07, 2.02229843e-04],\n",
              "       [9.06213463e-05, 6.95922135e-05, 4.81756579e-05, 9.98727620e-01,\n",
              "        3.11227581e-07, 1.06360286e-03],\n",
              "       [7.94177234e-01, 9.30928160e-03, 1.00165755e-01, 5.76469582e-03,\n",
              "        9.02750045e-02, 3.07980546e-04],\n",
              "       [9.23343759e-04, 1.07444851e-06, 4.08182183e-04, 9.98105705e-01,\n",
              "        1.06213645e-06, 5.60568471e-04],\n",
              "       [3.62104373e-07, 9.99218047e-01, 1.40210095e-05, 3.21782936e-05,\n",
              "        7.60022045e-11, 7.35449255e-04],\n",
              "       [1.09918639e-01, 2.70519499e-02, 7.24822640e-01, 4.76981420e-03,\n",
              "        4.36799554e-03, 1.29068956e-01],\n",
              "       [9.94665146e-01, 4.78743226e-04, 3.06700123e-03, 2.79407221e-04,\n",
              "        6.25213434e-04, 8.84423323e-04],\n",
              "       [9.79631305e-01, 1.61912851e-02, 2.06574169e-03, 1.73984759e-03,\n",
              "        1.89283292e-05, 3.52964184e-04],\n",
              "       [9.63617086e-01, 1.82108302e-02, 1.32500632e-02, 1.89666127e-04,\n",
              "        2.04599957e-04, 4.52779327e-03],\n",
              "       [2.25859135e-03, 9.94371831e-01, 1.53333717e-03, 1.59468891e-05,\n",
              "        4.86463541e-04, 1.33375265e-03],\n",
              "       [2.37778440e-01, 7.51464307e-01, 1.03622181e-02, 3.10063137e-06,\n",
              "        2.27044860e-04, 1.64785291e-04],\n",
              "       [6.53029128e-05, 1.70105006e-04, 5.02353541e-05, 2.48632277e-05,\n",
              "        9.99429584e-01, 2.59995082e-04],\n",
              "       [8.98898840e-01, 1.27787916e-02, 2.04687081e-02, 6.35250360e-02,\n",
              "        2.43064933e-04, 4.08562133e-03],\n",
              "       [1.02660850e-01, 1.01174209e-02, 2.22298261e-02, 5.37727952e-01,\n",
              "        2.99381718e-05, 3.27233970e-01],\n",
              "       [2.70308985e-04, 1.84549044e-05, 6.87240245e-05, 9.99045193e-01,\n",
              "        5.75771583e-06, 5.91506949e-04],\n",
              "       [9.98536289e-01, 4.26806422e-04, 9.33382020e-04, 7.24410347e-05,\n",
              "        1.48841418e-05, 1.61174630e-05],\n",
              "       [9.22875583e-01, 2.32493524e-02, 4.67470065e-02, 8.85724803e-05,\n",
              "        1.97145855e-05, 7.01986253e-03],\n",
              "       [9.71769094e-01, 7.35897338e-03, 3.34751676e-03, 1.66158713e-02,\n",
              "        9.07677259e-06, 8.99477280e-04],\n",
              "       [2.78948266e-02, 3.34244396e-04, 1.47268095e-03, 8.58183146e-01,\n",
              "        2.63299007e-05, 1.12088785e-01],\n",
              "       [1.02529475e-05, 1.41167527e-06, 5.79338812e-05, 9.99270916e-01,\n",
              "        5.03932881e-07, 6.59161655e-04],\n",
              "       [2.42559399e-04, 8.27629628e-05, 1.86714431e-04, 9.99194086e-01,\n",
              "        1.51492600e-06, 2.92306649e-04],\n",
              "       [1.18917264e-01, 6.93685201e-04, 5.02423406e-01, 5.90905994e-02,\n",
              "        2.95659318e-03, 3.15918565e-01],\n",
              "       [9.33311656e-02, 8.38222739e-04, 3.95977460e-02, 3.89889698e-04,\n",
              "        8.49336624e-01, 1.65064186e-02],\n",
              "       [5.75798035e-01, 1.03887625e-01, 1.07793875e-01, 2.16086283e-02,\n",
              "        1.46213034e-03, 1.89449713e-01],\n",
              "       [1.52707342e-02, 2.21232782e-04, 9.27131972e-04, 9.75772619e-01,\n",
              "        5.75385238e-05, 7.75075238e-03],\n",
              "       [6.50841743e-02, 1.46260262e-02, 5.92450984e-03, 5.24733588e-02,\n",
              "        3.12491902e-05, 8.61860693e-01],\n",
              "       [8.50540772e-02, 1.74039274e-01, 4.73560169e-02, 6.12825155e-01,\n",
              "        1.13132344e-04, 8.06123242e-02],\n",
              "       [4.43848839e-05, 5.29934805e-05, 1.32400412e-02, 9.80055213e-01,\n",
              "        6.15223962e-06, 6.60124328e-03],\n",
              "       [5.52511394e-01, 5.96867921e-03, 1.54535202e-02, 2.22205907e-01,\n",
              "        1.20852783e-04, 2.03739643e-01],\n",
              "       [8.24525487e-05, 2.61917594e-03, 1.15882570e-03, 3.67864050e-05,\n",
              "        6.81343693e-08, 9.96102571e-01],\n",
              "       [6.55220374e-02, 3.06446422e-02, 3.21669877e-02, 7.08966732e-01,\n",
              "        1.51092390e-04, 1.62548572e-01],\n",
              "       [5.07923542e-03, 1.25539221e-03, 5.59625123e-03, 3.79243717e-02,\n",
              "        6.04134912e-05, 9.50084329e-01],\n",
              "       [1.49910024e-03, 4.86931458e-05, 2.03611329e-02, 7.04953348e-13,\n",
              "        9.78091061e-01, 2.13774882e-08],\n",
              "       [8.97782326e-01, 6.30149152e-04, 4.73093521e-03, 8.72328654e-02,\n",
              "        5.95172605e-06, 9.61766299e-03],\n",
              "       [9.10538893e-06, 9.82396007e-01, 1.57969735e-05, 1.73289701e-02,\n",
              "        1.24648736e-08, 2.50086305e-04],\n",
              "       [6.26741501e-04, 9.95478213e-01, 3.19682853e-03, 7.34313580e-05,\n",
              "        6.04986039e-04, 1.98575653e-05],\n",
              "       [5.68281801e-04, 6.12260948e-04, 1.22051407e-03, 9.45736527e-01,\n",
              "        2.47670014e-05, 5.18376790e-02],\n",
              "       [1.63016201e-04, 9.99616325e-01, 2.08834434e-04, 8.76310060e-06,\n",
              "        2.24493718e-07, 2.71737849e-06]], dtype=float32)"
            ]
          },
          "metadata": {},
          "execution_count": 29
        }
      ]
    },
    {
      "cell_type": "code",
      "source": [
        "# Selecting the category based on maximum probability\n",
        "y_pred = np.argmax(y_pred, axis = 1)\n",
        "y_pred"
      ],
      "metadata": {
        "colab": {
          "base_uri": "https://localhost:8080/"
        },
        "id": "WBy6Clx4SOKp",
        "outputId": "e5a46c68-303e-4d09-80d6-626e28b486c8"
      },
      "execution_count": null,
      "outputs": [
        {
          "output_type": "execute_result",
          "data": {
            "text/plain": [
              "array([3, 1, 2, 0, 0, 3, 3, 4, 2, 5, 0, 3, 5, 0, 1, 3, 3, 4, 3, 4, 3, 0,\n",
              "       0, 3, 3, 3, 1, 0, 0, 0, 5, 0, 2, 1, 0, 3, 5, 2, 0, 1, 2, 3, 1, 2,\n",
              "       0, 4, 0, 1, 1, 5, 0, 1, 0, 3, 2, 0, 3, 3, 4, 5, 4, 0, 4, 0, 1, 2,\n",
              "       3, 2, 2, 3, 5, 0, 0, 0, 1, 2, 2, 0, 3, 2, 1, 1, 3, 3, 0, 3, 1, 2,\n",
              "       0, 0, 0, 1, 1, 4, 0, 3, 3, 0, 0, 0, 3, 3, 3, 2, 4, 0, 3, 5, 3, 3,\n",
              "       0, 5, 3, 5, 4, 0, 1, 1, 3, 1])"
            ]
          },
          "metadata": {},
          "execution_count": 30
        }
      ]
    },
    {
      "cell_type": "markdown",
      "source": [
        "# Getting the Requirements list"
      ],
      "metadata": {
        "id": "o5a8lV0QUjgR"
      }
    },
    {
      "cell_type": "code",
      "source": [
        "!pip freeze > requirements.txt"
      ],
      "metadata": {
        "id": "cALEPBxSSXTY"
      },
      "execution_count": null,
      "outputs": []
    },
    {
      "cell_type": "code",
      "source": [],
      "metadata": {
        "id": "PCPzuBScUfaf"
      },
      "execution_count": null,
      "outputs": []
    }
  ]
}